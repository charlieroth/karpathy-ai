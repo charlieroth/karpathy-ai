{
 "cells": [
  {
   "cell_type": "code",
   "execution_count": 28,
   "metadata": {},
   "outputs": [],
   "source": [
    "import mlx.core as mx\n",
    "import mlx.nn as nn\n",
    "import mlx.optimizers as optim\n",
    "from mlx.utils import tree_flatten\n",
    "import numpy as np\n",
    "from functools import partial\n",
    "import time\n",
    "import math\n",
    "import matplotlib.pyplot as plt # for making figures\n",
    "%matplotlib inline"
   ]
  },
  {
   "cell_type": "code",
   "execution_count": 29,
   "metadata": {},
   "outputs": [],
   "source": [
    "words = open('names.txt', 'r').read().splitlines()\n",
    "chars = sorted(list(set(''.join(words))))\n",
    "stoi = {s:i+1 for i,s in enumerate(chars)}\n",
    "stoi['.'] = 0\n",
    "itos = {i:s for s,i in stoi.items()}"
   ]
  },
  {
   "cell_type": "code",
   "execution_count": 40,
   "metadata": {},
   "outputs": [],
   "source": [
    "batch_size = 32\n",
    "context_size = 3 # Context size in tokens of the model\n",
    "num_iters = 100_000 # Iterations to train for\n",
    "learning_rate = 1e-1 # SGD learning rate\n",
    "lr_warmup = 200 # LR linear warmup iterations\n",
    "weight_decay = 1e-4 # Set the weight decay\n",
    "steps_per_eval = 1000 # Number of training steps between validations\n",
    "steps_per_report = 10 # Number of training steps between loss reporting\n",
    "optimizer = optim.SGD(\n",
    "  learning_rate=learning_rate,\n",
    "  weight_decay=weight_decay\n",
    ")"
   ]
  },
  {
   "cell_type": "code",
   "execution_count": 31,
   "metadata": {},
   "outputs": [
    {
     "name": "stdout",
     "output_type": "stream",
     "text": [
      "train (182671, 3) (182671,)\n",
      "validation (22784, 3) (22784,)\n",
      "test (22691, 3) (22691,)\n"
     ]
    }
   ],
   "source": [
    "# build the dataset\n",
    "def build_dataset(words, label=''):\n",
    "  X, Y = [], [] # inputs, labels\n",
    "  for w in words:\n",
    "    # print(w)\n",
    "    context = [0] * context_size\n",
    "    for ch in w + '.':\n",
    "      ix = stoi[ch]\n",
    "      X.append(context)\n",
    "      Y.append(ix)\n",
    "      # print(''.join(itos[i] for i in context), '--->', itos[ix])\n",
    "      context = context[1:] + [ix] # crop and append (rolling window of context)\n",
    "  X = mx.array(X)\n",
    "  Y = mx.array(Y)\n",
    "  print(label, X.shape, Y.shape)\n",
    "  return X, Y\n",
    "\n",
    "np.random.seed(42)\n",
    "np.random.shuffle(words)\n",
    "n1 = int(0.8 * len(words))\n",
    "n2 = int(0.9 * len(words))\n",
    "\n",
    "X_train, Y_train = build_dataset(words[:n1], label='train')\n",
    "X_val, Y_val = build_dataset(words[n1:n2], label='validation')\n",
    "X_test, Y_test = build_dataset(words[n2:], label='test')"
   ]
  },
  {
   "cell_type": "code",
   "execution_count": 32,
   "metadata": {},
   "outputs": [],
   "source": [
    "class MLP(nn.Module):\n",
    "  def __init__(self, input_dim, hidden_dim, output_dim, num_layers):\n",
    "    super().__init__()\n",
    "    layer_sizes = [input_dim] + [hidden_dim] * num_layers + [output_dim]\n",
    "    self.layers = [\n",
    "      nn.Linear(idim, odim, bias=True) for idim, odim in zip(layer_sizes[:-1], layer_sizes[1:])\n",
    "    ]\n",
    "\n",
    "  def __call__(self, x):\n",
    "    for l in self.layers[:-1]:\n",
    "      x = nn.tanh(l(x))\n",
    "    return self.layers[-1](x)"
   ]
  },
  {
   "cell_type": "code",
   "execution_count": 33,
   "metadata": {},
   "outputs": [],
   "source": [
    "key = mx.random.key(2147483647)\n",
    "E = mx.random.normal(shape=(27, 10), key=key)\n",
    "input_dim = 3 * 10\n",
    "hidden_dim = 200\n",
    "output_dim = 27\n",
    "num_layers = 2\n",
    "model = MLP(input_dim, hidden_dim, output_dim, num_layers)\n",
    "mx.eval(model.parameters())"
   ]
  },
  {
   "cell_type": "code",
   "execution_count": 34,
   "metadata": {},
   "outputs": [],
   "source": [
    "def loss_fn(model, x, y):\n",
    "  logits = model(x)\n",
    "  losses = nn.losses.cross_entropy(logits, y)\n",
    "  return mx.mean(losses)"
   ]
  },
  {
   "cell_type": "code",
   "execution_count": 35,
   "metadata": {},
   "outputs": [],
   "source": [
    "def to_samples(context_size, dataset):\n",
    "  tokens = dataset.size\n",
    "  window_size = context_size + 1  # include target\n",
    "  samples = tokens - window_size + 1\n",
    "  X = np.lib.stride_tricks.as_strided(\n",
    "    dataset,\n",
    "    shape=(samples, window_size),\n",
    "    strides=(dataset.itemsize, dataset.itemsize),\n",
    "  )\n",
    "  return X[:, :-1], X[:, 1:]"
   ]
  },
  {
   "cell_type": "code",
   "execution_count": 36,
   "metadata": {},
   "outputs": [],
   "source": [
    "def iterate_batches(batch_size, context_size, dataset):\n",
    "  inputs, targets = to_samples(context_size, dataset)\n",
    "  s = 0\n",
    "  while True:\n",
    "    if s == 0:\n",
    "      # Reset permutation:\n",
    "      perm = np.random.permutation(inputs.shape[0])\n",
    "    ids = perm[s : s + batch_size]\n",
    "    yield inputs[ids], targets[ids]\n",
    "    s += batch_size\n",
    "    if s >= inputs.shape[0]:\n",
    "      s = 0"
   ]
  },
  {
   "cell_type": "code",
   "execution_count": 37,
   "metadata": {},
   "outputs": [],
   "source": [
    "def eval_fn(context_size, dataset):\n",
    "  inputs, targets = map(mx.array, to_samples(context_size, dataset))\n",
    "  loss = 0\n",
    "  for s in range(0, targets.shape[0], 32):\n",
    "    bx, by = inputs[s : s + 32], targets[s : s + 32]\n",
    "    bx, by = map(mx.array, (bx, by))\n",
    "    losses = loss_fn(model, inputs, targets, reduce=False)\n",
    "    loss += mx.sum(losses).item()\n",
    "  return loss / len(targets)"
   ]
  },
  {
   "cell_type": "code",
   "execution_count": 38,
   "metadata": {},
   "outputs": [],
   "source": [
    "state = [model.state, optimizer.state]"
   ]
  },
  {
   "cell_type": "code",
   "execution_count": 39,
   "metadata": {},
   "outputs": [],
   "source": [
    "@partial(mx.compile, inputs=state, outputs=state)\n",
    "def step(inputs, targets):\n",
    "  loss_and_grad_fn = nn.value_and_grad(model, loss_fn)\n",
    "  loss, grads = loss_and_grad_fn(model, inputs, targets)\n",
    "  optimizer.update(model, grads)\n",
    "  return loss"
   ]
  },
  {
   "cell_type": "code",
   "execution_count": 42,
   "metadata": {},
   "outputs": [
    {
     "ename": "ValueError",
     "evalue": "[eval] Attempting to eval an array without a primitive.",
     "output_type": "error",
     "traceback": [
      "\u001b[0;31m---------------------------------------------------------------------------\u001b[0m",
      "\u001b[0;31mValueError\u001b[0m                                Traceback (most recent call last)",
      "Cell \u001b[0;32mIn[42], line 14\u001b[0m\n\u001b[1;32m     11\u001b[0m optimizer\u001b[38;5;241m.\u001b[39mlearning_rate \u001b[38;5;241m=\u001b[39m \u001b[38;5;28mmin\u001b[39m(\u001b[38;5;241m1\u001b[39m, it \u001b[38;5;241m/\u001b[39m lr_warmup) \u001b[38;5;241m*\u001b[39m learning_rate\n\u001b[1;32m     13\u001b[0m loss \u001b[38;5;241m=\u001b[39m step(inputs, targets)\n\u001b[0;32m---> 14\u001b[0m \u001b[43mmx\u001b[49m\u001b[38;5;241;43m.\u001b[39;49m\u001b[43meval\u001b[49m\u001b[43m(\u001b[49m\u001b[43mstate\u001b[49m\u001b[43m)\u001b[49m\n\u001b[1;32m     15\u001b[0m losses\u001b[38;5;241m.\u001b[39mappend(loss\u001b[38;5;241m.\u001b[39mitem())\n\u001b[1;32m     16\u001b[0m iterations\u001b[38;5;241m.\u001b[39mappend(it)\n",
      "\u001b[0;31mValueError\u001b[0m: [eval] Attempting to eval an array without a primitive."
     ]
    }
   ],
   "source": [
    "iterations = []\n",
    "losses = []\n",
    "tic = time.perf_counter()\n",
    "for it in range(num_iters):\n",
    "  itx = mx.random.randint(0, X_train.shape[0], (batch_size,))\n",
    "\n",
    "  inputs = E[X_train[itx]]\n",
    "  inputs = inputs.reshape(inputs.shape[0], inputs.shape[1] * inputs.shape[2])\n",
    "  targets = Y_train[itx]\n",
    "  \n",
    "  optimizer.learning_rate = min(1, it / lr_warmup) * learning_rate\n",
    "  \n",
    "  loss = step(inputs, targets)\n",
    "  mx.eval(state)\n",
    "  losses.append(loss.item())\n",
    "  iterations.append(it)\n",
    "  \n",
    "  # if (it + 1) % steps_per_report == 0:\n",
    "  #   train_loss = np.mean(losses)\n",
    "  #   toc = time.perf_counter()\n",
    "  #   print(\n",
    "  #     f\"Iter {it + 1}: Train loss {train_loss:.3f}, \"\n",
    "  #     f\"It/sec {steps_per_report / (toc - tic):.3f}\"\n",
    "  #   )\n",
    "  #   losses = []\n",
    "  #   tic = time.perf_counter()\n",
    "  # if (it + 1) % steps_per_eval == 0:\n",
    "  #   val_loss = eval_fn(X_val)\n",
    "  #   toc = time.perf_counter()\n",
    "  #   print(\n",
    "  #     f\"Iter {it + 1}: \"\n",
    "  #     f\"Val loss {val_loss:.3f}, \"\n",
    "  #     f\"Val ppl {math.exp(val_loss):.3f}, \"\n",
    "  #     f\"Val took {(toc - tic):.3f}s, \"\n",
    "  #   )\n",
    "  #   tic = time.perf_counter()\n",
    "\n",
    "# test_loss = eval_fn(X_test)\n",
    "# test_ppl = math.exp(test_loss)\n",
    "# print(f\"Test loss {test_loss:.3f}, Test ppl {test_ppl:.3f}.\")"
   ]
  },
  {
   "cell_type": "code",
   "execution_count": null,
   "metadata": {},
   "outputs": [],
   "source": [
    "plt.plot(iterations, losses)"
   ]
  }
 ],
 "metadata": {
  "kernelspec": {
   "display_name": "kai",
   "language": "python",
   "name": "python3"
  },
  "language_info": {
   "codemirror_mode": {
    "name": "ipython",
    "version": 3
   },
   "file_extension": ".py",
   "mimetype": "text/x-python",
   "name": "python",
   "nbconvert_exporter": "python",
   "pygments_lexer": "ipython3",
   "version": "3.12.2"
  }
 },
 "nbformat": 4,
 "nbformat_minor": 2
}
