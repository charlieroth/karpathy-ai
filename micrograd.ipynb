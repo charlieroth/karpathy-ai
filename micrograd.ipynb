{
 "cells": [
  {
   "cell_type": "markdown",
   "metadata": {},
   "source": [
    "# Micrograd\n",
    "\n",
    "A tiny autograd engine. Implements backpropagation (reverse-mode autodiff) over a dynamically built DAG and a small neural networks library on top of it with a PyTorch-like API"
   ]
  },
  {
   "cell_type": "code",
   "execution_count": 2,
   "metadata": {},
   "outputs": [],
   "source": [
    "import math\n",
    "import random\n",
    "import numpy as np\n",
    "import matplotlib.pyplot as plt\n",
    "from graphviz import Digraph\n",
    "import torch\n",
    "\n",
    "%matplotlib inline"
   ]
  },
  {
   "cell_type": "code",
   "execution_count": 3,
   "metadata": {},
   "outputs": [],
   "source": [
    "def f(x):\n",
    "    return 3*x**2 - 4*x + 1"
   ]
  },
  {
   "cell_type": "code",
   "execution_count": 4,
   "metadata": {},
   "outputs": [
    {
     "data": {
      "text/plain": [
       "16.0"
      ]
     },
     "execution_count": 4,
     "metadata": {},
     "output_type": "execute_result"
    }
   ],
   "source": [
    "f(3.0)"
   ]
  },
  {
   "cell_type": "code",
   "execution_count": 5,
   "metadata": {},
   "outputs": [
    {
     "data": {
      "text/plain": [
       "[<matplotlib.lines.Line2D at 0x1377a0ef0>]"
      ]
     },
     "execution_count": 5,
     "metadata": {},
     "output_type": "execute_result"
    },
    {
     "data": {
      "image/png": "[encoded data removed]",
      "text/plain": [
       "<Figure size 640x480 with 1 Axes>"
      ]
     },
     "metadata": {},
     "output_type": "display_data"
    }
   ],
   "source": [
    "xs = np.arange(-5, 5, 0.25)\n",
    "ys = f(xs)\n",
    "plt.plot(xs, ys)"
   ]
  },
  {
   "cell_type": "code",
   "execution_count": 6,
   "metadata": {},
   "outputs": [
    {
     "data": {
      "text/plain": [
       "14.00003000000538"
      ]
     },
     "execution_count": 6,
     "metadata": {},
     "output_type": "execute_result"
    }
   ],
   "source": [
    "h = 0.00001\n",
    "x = 3.0\n",
    "(f(x + h) - f(x)) / h"
   ]
  },
  {
   "cell_type": "markdown",
   "metadata": {},
   "source": [
    "To further understand the intuition of what a derivative is telling us we can look at a slightly more complex example. Here is an expression, with three components `a`, `b`, `c` with one output `d`. When we derive `d` WRT to each of it's components we can further understand how the derivative affects the outcome"
   ]
  },
  {
   "cell_type": "code",
   "execution_count": 7,
   "metadata": {},
   "outputs": [
    {
     "name": "stdout",
     "output_type": "stream",
     "text": [
      "4.0\n"
     ]
    }
   ],
   "source": [
    "a = 2.0\n",
    "b = -3.0\n",
    "c = 10.0\n",
    "d = a*b + c\n",
    "print(d)"
   ]
  },
  {
   "cell_type": "code",
   "execution_count": 8,
   "metadata": {},
   "outputs": [
    {
     "name": "stdout",
     "output_type": "stream",
     "text": [
      "d1 4.0\n",
      "d2 4.0001\n",
      "slope 0.9999999999976694\n"
     ]
    }
   ],
   "source": [
    "h = 0.0001\n",
    "\n",
    "# inputs\n",
    "a = 2.0\n",
    "b = -3.0\n",
    "c = 10.0\n",
    "\n",
    "d1 = a*b + c\n",
    "\n",
    "# derivative of d with respect to an input a, b, or c\n",
    "c += h\n",
    "d2 = a*b + c\n",
    "print('d1', d1)\n",
    "print('d2', d2)\n",
    "# (d2 - d1) is how much the output changes when we increase a by h\n",
    "# (d2 - d1) / h is the slope of the output with respect to the input, via normalization\n",
    "print('slope', (d2 - d1) / h)"
   ]
  },
  {
   "cell_type": "code",
   "execution_count": 9,
   "metadata": {},
   "outputs": [],
   "source": [
    "def trace(root):\n",
    "    # Builds a set of all nodes and edges in the graph\n",
    "    nodes, edges = set(), set()\n",
    "    def build(v):\n",
    "        nodes.add(v)\n",
    "        for child in v.prev:\n",
    "            edges.add((child, v))\n",
    "            build(child)\n",
    "    build(root)\n",
    "    return nodes, edges"
   ]
  },
  {
   "cell_type": "code",
   "execution_count": 10,
   "metadata": {},
   "outputs": [],
   "source": [
    "def draw_dot(root):\n",
    "    dot = Digraph(format='svg', graph_attr={'rankdir': 'LR'})\n",
    "    nodes, edges = trace(root)\n",
    "    for n in nodes:\n",
    "        uid = str(id(n))\n",
    "        # For any value in the graph, create a rectangular ('record') node for it\n",
    "        dot.node(uid, label=\"{%s | data %.4f | grad %.4f }\" % (n.label, n.data, n.grad, ), shape='record')\n",
    "        if n.op:\n",
    "            # If this value is a result of some operation, create an op node for it\n",
    "            dot.node(name=uid+n.op, label=n.op)\n",
    "            # Connect this node to it\n",
    "            dot.edge(uid+n.op, uid)\n",
    "    for n1, n2 in edges:\n",
    "        dot.edge(str(id(n1)), str(id(n2)) + n2.op)\n",
    "    return dot"
   ]
  },
  {
   "cell_type": "code",
   "execution_count": 11,
   "metadata": {},
   "outputs": [],
   "source": [
    "class Value:\n",
    "    \"\"\"\n",
    "    Stores a single scalar value and its gradient\n",
    "    \"\"\"\n",
    "\n",
    "    def __init__(self, _data, _children=(), _op='', label=''):\n",
    "        self.data = _data\n",
    "        # At initialization gradient is 0.0, meaning no impact on the final output (loss function)\n",
    "        self.grad = 0.0\n",
    "        # internal variables used for autograd construction\n",
    "        self._backward = lambda: None\n",
    "        self.prev = set(_children)\n",
    "        # the op that produced this node, for graphviz and debugging\n",
    "        self.op = _op\n",
    "        self.label = label\n",
    "\n",
    "    def __add__(self, other):\n",
    "        other = other if isinstance(other, Value) else Value(other)\n",
    "        out = Value(self.data + other.data, (self, other), '+')\n",
    "        def _backward():\n",
    "            self.grad += 1 * out.grad\n",
    "            other.grad += 1 * out.grad\n",
    "\n",
    "        out._backward = _backward\n",
    "        return out\n",
    "    \n",
    "    def __radd__(self, other): # other + self\n",
    "        return self.__add__(other)\n",
    "    \n",
    "    def __sub__(self, other): # self - other\n",
    "        return self + (-other)\n",
    "    \n",
    "    def __rsub__(self, other): # other - self\n",
    "        return self.__sub__(other)\n",
    "\n",
    "    def __mul__(self, other):\n",
    "        other = other if isinstance(other, Value) else Value(other)\n",
    "        out = Value(self.data * other.data, (self, other), '*')\n",
    "        def _backward():\n",
    "            self.grad += other.data * out.grad\n",
    "            other.grad += self.data * out.grad\n",
    "\n",
    "        out._backward = _backward\n",
    "        return out\n",
    "    \n",
    "    def __rmul__(self, other): # other * self\n",
    "        return self.__mul__(other)\n",
    "    \n",
    "    def __neg__(self):\n",
    "        return self * -1\n",
    "\n",
    "    def __truediv__(self, other):\n",
    "        return self * other**-1\n",
    "    \n",
    "    def __rtruediv__(self, other): # other / self\n",
    "        return self.__truediv__(other)\n",
    "\n",
    "    def __pow__(self, other):\n",
    "        assert isinstance(other, (int, float)), \"only supporting int/float for now\"\n",
    "        out = Value(self.data**other, (self,), f'**{other}')\n",
    "        def _backward():\n",
    "            self.grad += other * self.data**(other-1) * out.grad\n",
    "\n",
    "        out._backward = _backward\n",
    "        return out\n",
    "\n",
    "    def exp(self):\n",
    "        x = self.data\n",
    "        out = Value(math.exp(x), (self,), 'exp')\n",
    "        def _backward():\n",
    "            self.grad += out.data * out.grad\n",
    "\n",
    "        out._backward = _backward\n",
    "        return out\n",
    "\n",
    "    def tanh(self):\n",
    "        x = self.data\n",
    "        t = (math.exp(2*x) - 1) / (math.exp(2*x) + 1)\n",
    "        out = Value(t, (self,), 'tanh')\n",
    "        def _backward():\n",
    "            self.grad += (1 - t**2) * out.grad\n",
    "\n",
    "        out._backward = _backward\n",
    "        return out\n",
    "\n",
    "    def relu(self):\n",
    "        out = Value(0 if self.data < 0 else self.data, (self,), 'ReLU')\n",
    "\n",
    "        def _backward():\n",
    "            self.grad += (out.data > 0) * out.grad\n",
    "\n",
    "        out._backward = _backward\n",
    "        return out\n",
    "\n",
    "    def backward(self):\n",
    "        # Initialize the gradient of the final value to 1.0\n",
    "        self.grad = 1.0\n",
    "        # Traverse the graph in reverse topological order\n",
    "        topo = []\n",
    "        visited = set()\n",
    "        def build(v):\n",
    "            if v not in visited:\n",
    "                visited.add(v)\n",
    "                for child in v.prev:\n",
    "                    build(child)\n",
    "                topo.append(v)\n",
    "        build(self)\n",
    "        # Traverse the graph in the reverse order and accumulate the gradients\n",
    "        for v in reversed(topo):\n",
    "            v._backward()\n",
    "    \n",
    "    def __repr__(self):\n",
    "        return f\"Value(data={self.data})\"\n"
   ]
  },
  {
   "cell_type": "code",
   "execution_count": 12,
   "metadata": {},
   "outputs": [],
   "source": [
    "a = Value(2.0, label='a')\n",
    "b = Value(-3.0, label='b')\n",
    "c = Value(10.0, label='c')\n",
    "d = a*b; d.label = 'd'\n",
    "L = d + c; L.label = 'L'"
   ]
  },
  {
   "cell_type": "code",
   "execution_count": 13,
   "metadata": {},
   "outputs": [
    {
     "data": {
      "image/svg+xml": [
       "<?xml version=\"1.0\" encoding=\"UTF-8\" standalone=\"no\"?>\n",
       "<!DOCTYPE svg PUBLIC \"-//W3C//DTD SVG 1.1//EN\"\n",
       " \"http://www.w3.org/Graphics/SVG/1.1/DTD/svg11.dtd\">\n",
       "<!-- Generated by graphviz version 10.0.1 (20240210.2158)\n",
       " -->\n",
       "<!-- Pages: 1 -->\n",
       "<svg width=\"823pt\" height=\"127pt\"\n",
       " viewBox=\"0.00 0.00 823.25 127.00\" xmlns=\"http://www.w3.org/2000/svg\" xmlns:xlink=\"http://www.w3.org/1999/xlink\">\n",
       "<g id=\"graph0\" class=\"graph\" transform=\"scale(1 1) rotate(0) translate(4 123)\">\n",
       "<polygon fill=\"white\" stroke=\"none\" points=\"-4,4 -4,-123 819.25,-123 819.25,4 -4,4\"/>\n",
       "<!-- 6173416992 -->\n",
       "<g id=\"node1\" class=\"node\">\n",
       "<title>6173416992</title>\n",
       "<polygon fill=\"none\" stroke=\"black\" points=\"314.25,-82.5 314.25,-118.5 504,-118.5 504,-82.5 314.25,-82.5\"/>\n",
       "<text text-anchor=\"middle\" x=\"325.25\" y=\"-95.7\" font-family=\"Times,serif\" font-size=\"14.00\">c</text>\n",
       "<polyline fill=\"none\" stroke=\"black\" points=\"336.25,-83 336.25,-118.5\"/>\n",
       "<text text-anchor=\"middle\" x=\"379.5\" y=\"-95.7\" font-family=\"Times,serif\" font-size=\"14.00\">data 10.0000</text>\n",
       "<polyline fill=\"none\" stroke=\"black\" points=\"422.75,-83 422.75,-118.5\"/>\n",
       "<text text-anchor=\"middle\" x=\"463.38\" y=\"-95.7\" font-family=\"Times,serif\" font-size=\"14.00\">grad 0.0000</text>\n",
       "</g>\n",
       "<!-- 6173416560+ -->\n",
       "<g id=\"node3\" class=\"node\">\n",
       "<title>6173416560+</title>\n",
       "<ellipse fill=\"none\" stroke=\"black\" cx=\"567\" cy=\"-72.5\" rx=\"27\" ry=\"18\"/>\n",
       "<text text-anchor=\"middle\" x=\"567\" y=\"-67.45\" font-family=\"Times,serif\" font-size=\"14.00\">+</text>\n",
       "</g>\n",
       "<!-- 6173416992&#45;&gt;6173416560+ -->\n",
       "<g id=\"edge6\" class=\"edge\">\n",
       "<title>6173416992&#45;&gt;6173416560+</title>\n",
       "<path fill=\"none\" stroke=\"black\" d=\"M504.39,-83.57C513.16,-81.99 521.65,-80.47 529.37,-79.08\"/>\n",
       "<polygon fill=\"black\" stroke=\"black\" points=\"529.73,-82.57 538.95,-77.36 528.49,-75.68 529.73,-82.57\"/>\n",
       "</g>\n",
       "<!-- 6173416560 -->\n",
       "<g id=\"node2\" class=\"node\">\n",
       "<title>6173416560</title>\n",
       "<polygon fill=\"none\" stroke=\"black\" points=\"630,-54.5 630,-90.5 815.25,-90.5 815.25,-54.5 630,-54.5\"/>\n",
       "<text text-anchor=\"middle\" x=\"642.12\" y=\"-67.7\" font-family=\"Times,serif\" font-size=\"14.00\">L</text>\n",
       "<polyline fill=\"none\" stroke=\"black\" points=\"654.25,-55 654.25,-90.5\"/>\n",
       "<text text-anchor=\"middle\" x=\"694.12\" y=\"-67.7\" font-family=\"Times,serif\" font-size=\"14.00\">data 4.0000</text>\n",
       "<polyline fill=\"none\" stroke=\"black\" points=\"734,-55 734,-90.5\"/>\n",
       "<text text-anchor=\"middle\" x=\"774.62\" y=\"-67.7\" font-family=\"Times,serif\" font-size=\"14.00\">grad 0.0000</text>\n",
       "</g>\n",
       "<!-- 6173416560+&#45;&gt;6173416560 -->\n",
       "<g id=\"edge1\" class=\"edge\">\n",
       "<title>6173416560+&#45;&gt;6173416560</title>\n",
       "<path fill=\"none\" stroke=\"black\" d=\"M594.41,-72.5C601.45,-72.5 609.5,-72.5 618.05,-72.5\"/>\n",
       "<polygon fill=\"black\" stroke=\"black\" points=\"618.04,-76 628.04,-72.5 618.04,-69 618.04,-76\"/>\n",
       "</g>\n",
       "<!-- 6173417088 -->\n",
       "<g id=\"node4\" class=\"node\">\n",
       "<title>6173417088</title>\n",
       "<polygon fill=\"none\" stroke=\"black\" points=\"2.62,-55.5 2.62,-91.5 185.62,-91.5 185.62,-55.5 2.62,-55.5\"/>\n",
       "<text text-anchor=\"middle\" x=\"13.62\" y=\"-68.7\" font-family=\"Times,serif\" font-size=\"14.00\">a</text>\n",
       "<polyline fill=\"none\" stroke=\"black\" points=\"24.62,-56 24.62,-91.5\"/>\n",
       "<text text-anchor=\"middle\" x=\"64.5\" y=\"-68.7\" font-family=\"Times,serif\" font-size=\"14.00\">data 2.0000</text>\n",
       "<polyline fill=\"none\" stroke=\"black\" points=\"104.38,-56 104.38,-91.5\"/>\n",
       "<text text-anchor=\"middle\" x=\"145\" y=\"-68.7\" font-family=\"Times,serif\" font-size=\"14.00\">grad 0.0000</text>\n",
       "</g>\n",
       "<!-- 6173417136* -->\n",
       "<g id=\"node6\" class=\"node\">\n",
       "<title>6173417136*</title>\n",
       "<ellipse fill=\"none\" stroke=\"black\" cx=\"251.25\" cy=\"-45.5\" rx=\"27\" ry=\"18\"/>\n",
       "<text text-anchor=\"middle\" x=\"251.25\" y=\"-40.45\" font-family=\"Times,serif\" font-size=\"14.00\">*</text>\n",
       "</g>\n",
       "<!-- 6173417088&#45;&gt;6173417136* -->\n",
       "<g id=\"edge5\" class=\"edge\">\n",
       "<title>6173417088&#45;&gt;6173417136*</title>\n",
       "<path fill=\"none\" stroke=\"black\" d=\"M185.81,-57.13C195.66,-55.35 205.21,-53.63 213.82,-52.08\"/>\n",
       "<polygon fill=\"black\" stroke=\"black\" points=\"214.19,-55.57 223.41,-50.34 212.95,-48.68 214.19,-55.57\"/>\n",
       "</g>\n",
       "<!-- 6173417136 -->\n",
       "<g id=\"node5\" class=\"node\">\n",
       "<title>6173417136</title>\n",
       "<polygon fill=\"none\" stroke=\"black\" points=\"315,-27.5 315,-63.5 503.25,-63.5 503.25,-27.5 315,-27.5\"/>\n",
       "<text text-anchor=\"middle\" x=\"326.38\" y=\"-40.7\" font-family=\"Times,serif\" font-size=\"14.00\">d</text>\n",
       "<polyline fill=\"none\" stroke=\"black\" points=\"337.75,-28 337.75,-63.5\"/>\n",
       "<text text-anchor=\"middle\" x=\"379.88\" y=\"-40.7\" font-family=\"Times,serif\" font-size=\"14.00\">data &#45;6.0000</text>\n",
       "<polyline fill=\"none\" stroke=\"black\" points=\"422,-28 422,-63.5\"/>\n",
       "<text text-anchor=\"middle\" x=\"462.62\" y=\"-40.7\" font-family=\"Times,serif\" font-size=\"14.00\">grad 0.0000</text>\n",
       "</g>\n",
       "<!-- 6173417136&#45;&gt;6173416560+ -->\n",
       "<g id=\"edge3\" class=\"edge\">\n",
       "<title>6173417136&#45;&gt;6173416560+</title>\n",
       "<path fill=\"none\" stroke=\"black\" d=\"M503.5,-61.67C512.45,-63.22 521.13,-64.73 529.02,-66.09\"/>\n",
       "<polygon fill=\"black\" stroke=\"black\" points=\"528.38,-69.54 538.83,-67.79 529.58,-62.64 528.38,-69.54\"/>\n",
       "</g>\n",
       "<!-- 6173417136*&#45;&gt;6173417136 -->\n",
       "<g id=\"edge2\" class=\"edge\">\n",
       "<title>6173417136*&#45;&gt;6173417136</title>\n",
       "<path fill=\"none\" stroke=\"black\" d=\"M278.69,-45.5C285.96,-45.5 294.31,-45.5 303.19,-45.5\"/>\n",
       "<polygon fill=\"black\" stroke=\"black\" points=\"303.17,-49 313.17,-45.5 303.17,-42 303.17,-49\"/>\n",
       "</g>\n",
       "<!-- 6173191984 -->\n",
       "<g id=\"node7\" class=\"node\">\n",
       "<title>6173191984</title>\n",
       "<polygon fill=\"none\" stroke=\"black\" points=\"0,-0.5 0,-36.5 188.25,-36.5 188.25,-0.5 0,-0.5\"/>\n",
       "<text text-anchor=\"middle\" x=\"11.38\" y=\"-13.7\" font-family=\"Times,serif\" font-size=\"14.00\">b</text>\n",
       "<polyline fill=\"none\" stroke=\"black\" points=\"22.75,-1 22.75,-36.5\"/>\n",
       "<text text-anchor=\"middle\" x=\"64.88\" y=\"-13.7\" font-family=\"Times,serif\" font-size=\"14.00\">data &#45;3.0000</text>\n",
       "<polyline fill=\"none\" stroke=\"black\" points=\"107,-1 107,-36.5\"/>\n",
       "<text text-anchor=\"middle\" x=\"147.62\" y=\"-13.7\" font-family=\"Times,serif\" font-size=\"14.00\">grad 0.0000</text>\n",
       "</g>\n",
       "<!-- 6173191984&#45;&gt;6173417136* -->\n",
       "<g id=\"edge4\" class=\"edge\">\n",
       "<title>6173191984&#45;&gt;6173417136*</title>\n",
       "<path fill=\"none\" stroke=\"black\" d=\"M188.49,-34.75C197.27,-36.28 205.77,-37.76 213.51,-39.1\"/>\n",
       "<polygon fill=\"black\" stroke=\"black\" points=\"212.66,-42.51 223.11,-40.78 213.86,-35.61 212.66,-42.51\"/>\n",
       "</g>\n",
       "</g>\n",
       "</svg>\n"
      ],
      "text/plain": [
       "<graphviz.graphs.Digraph at 0x16ff35070>"
      ]
     },
     "execution_count": 13,
     "metadata": {},
     "output_type": "execute_result"
    }
   ],
   "source": [
    "draw_dot(L)"
   ]
  },
  {
   "cell_type": "code",
   "execution_count": 14,
   "metadata": {},
   "outputs": [
    {
     "data": {
      "image/svg+xml": [
       "<?xml version=\"1.0\" encoding=\"UTF-8\" standalone=\"no\"?>\n",
       "<!DOCTYPE svg PUBLIC \"-//W3C//DTD SVG 1.1//EN\"\n",
       " \"http://www.w3.org/Graphics/SVG/1.1/DTD/svg11.dtd\">\n",
       "<!-- Generated by graphviz version 10.0.1 (20240210.2158)\n",
       " -->\n",
       "<!-- Pages: 1 -->\n",
       "<svg width=\"823pt\" height=\"127pt\"\n",
       " viewBox=\"0.00 0.00 823.25 127.00\" xmlns=\"http://www.w3.org/2000/svg\" xmlns:xlink=\"http://www.w3.org/1999/xlink\">\n",
       "<g id=\"graph0\" class=\"graph\" transform=\"scale(1 1) rotate(0) translate(4 123)\">\n",
       "<polygon fill=\"white\" stroke=\"none\" points=\"-4,4 -4,-123 819.25,-123 819.25,4 -4,4\"/>\n",
       "<!-- 6173416992 -->\n",
       "<g id=\"node1\" class=\"node\">\n",
       "<title>6173416992</title>\n",
       "<polygon fill=\"none\" stroke=\"black\" points=\"314.25,-82.5 314.25,-118.5 504,-118.5 504,-82.5 314.25,-82.5\"/>\n",
       "<text text-anchor=\"middle\" x=\"325.25\" y=\"-95.7\" font-family=\"Times,serif\" font-size=\"14.00\">c</text>\n",
       "<polyline fill=\"none\" stroke=\"black\" points=\"336.25,-83 336.25,-118.5\"/>\n",
       "<text text-anchor=\"middle\" x=\"379.5\" y=\"-95.7\" font-family=\"Times,serif\" font-size=\"14.00\">data 10.0000</text>\n",
       "<polyline fill=\"none\" stroke=\"black\" points=\"422.75,-83 422.75,-118.5\"/>\n",
       "<text text-anchor=\"middle\" x=\"463.38\" y=\"-95.7\" font-family=\"Times,serif\" font-size=\"14.00\">grad 1.0000</text>\n",
       "</g>\n",
       "<!-- 6173416560+ -->\n",
       "<g id=\"node3\" class=\"node\">\n",
       "<title>6173416560+</title>\n",
       "<ellipse fill=\"none\" stroke=\"black\" cx=\"567\" cy=\"-72.5\" rx=\"27\" ry=\"18\"/>\n",
       "<text text-anchor=\"middle\" x=\"567\" y=\"-67.45\" font-family=\"Times,serif\" font-size=\"14.00\">+</text>\n",
       "</g>\n",
       "<!-- 6173416992&#45;&gt;6173416560+ -->\n",
       "<g id=\"edge6\" class=\"edge\">\n",
       "<title>6173416992&#45;&gt;6173416560+</title>\n",
       "<path fill=\"none\" stroke=\"black\" d=\"M504.39,-83.57C513.16,-81.99 521.65,-80.47 529.37,-79.08\"/>\n",
       "<polygon fill=\"black\" stroke=\"black\" points=\"529.73,-82.57 538.95,-77.36 528.49,-75.68 529.73,-82.57\"/>\n",
       "</g>\n",
       "<!-- 6173416560 -->\n",
       "<g id=\"node2\" class=\"node\">\n",
       "<title>6173416560</title>\n",
       "<polygon fill=\"none\" stroke=\"black\" points=\"630,-54.5 630,-90.5 815.25,-90.5 815.25,-54.5 630,-54.5\"/>\n",
       "<text text-anchor=\"middle\" x=\"642.12\" y=\"-67.7\" font-family=\"Times,serif\" font-size=\"14.00\">L</text>\n",
       "<polyline fill=\"none\" stroke=\"black\" points=\"654.25,-55 654.25,-90.5\"/>\n",
       "<text text-anchor=\"middle\" x=\"694.12\" y=\"-67.7\" font-family=\"Times,serif\" font-size=\"14.00\">data 4.0000</text>\n",
       "<polyline fill=\"none\" stroke=\"black\" points=\"734,-55 734,-90.5\"/>\n",
       "<text text-anchor=\"middle\" x=\"774.62\" y=\"-67.7\" font-family=\"Times,serif\" font-size=\"14.00\">grad 1.0000</text>\n",
       "</g>\n",
       "<!-- 6173416560+&#45;&gt;6173416560 -->\n",
       "<g id=\"edge1\" class=\"edge\">\n",
       "<title>6173416560+&#45;&gt;6173416560</title>\n",
       "<path fill=\"none\" stroke=\"black\" d=\"M594.41,-72.5C601.45,-72.5 609.5,-72.5 618.05,-72.5\"/>\n",
       "<polygon fill=\"black\" stroke=\"black\" points=\"618.04,-76 628.04,-72.5 618.04,-69 618.04,-76\"/>\n",
       "</g>\n",
       "<!-- 6173417088 -->\n",
       "<g id=\"node4\" class=\"node\">\n",
       "<title>6173417088</title>\n",
       "<polygon fill=\"none\" stroke=\"black\" points=\"0.38,-55.5 0.38,-91.5 187.88,-91.5 187.88,-55.5 0.38,-55.5\"/>\n",
       "<text text-anchor=\"middle\" x=\"11.38\" y=\"-68.7\" font-family=\"Times,serif\" font-size=\"14.00\">a</text>\n",
       "<polyline fill=\"none\" stroke=\"black\" points=\"22.38,-56 22.38,-91.5\"/>\n",
       "<text text-anchor=\"middle\" x=\"62.25\" y=\"-68.7\" font-family=\"Times,serif\" font-size=\"14.00\">data 2.0000</text>\n",
       "<polyline fill=\"none\" stroke=\"black\" points=\"102.12,-56 102.12,-91.5\"/>\n",
       "<text text-anchor=\"middle\" x=\"145\" y=\"-68.7\" font-family=\"Times,serif\" font-size=\"14.00\">grad &#45;3.0000</text>\n",
       "</g>\n",
       "<!-- 6173417136* -->\n",
       "<g id=\"node6\" class=\"node\">\n",
       "<title>6173417136*</title>\n",
       "<ellipse fill=\"none\" stroke=\"black\" cx=\"251.25\" cy=\"-45.5\" rx=\"27\" ry=\"18\"/>\n",
       "<text text-anchor=\"middle\" x=\"251.25\" y=\"-40.45\" font-family=\"Times,serif\" font-size=\"14.00\">*</text>\n",
       "</g>\n",
       "<!-- 6173417088&#45;&gt;6173417136* -->\n",
       "<g id=\"edge5\" class=\"edge\">\n",
       "<title>6173417088&#45;&gt;6173417136*</title>\n",
       "<path fill=\"none\" stroke=\"black\" d=\"M188.05,-56.73C196.96,-55.12 205.59,-53.56 213.44,-52.14\"/>\n",
       "<polygon fill=\"black\" stroke=\"black\" points=\"213.99,-55.6 223.21,-50.38 212.75,-48.71 213.99,-55.6\"/>\n",
       "</g>\n",
       "<!-- 6173417136 -->\n",
       "<g id=\"node5\" class=\"node\">\n",
       "<title>6173417136</title>\n",
       "<polygon fill=\"none\" stroke=\"black\" points=\"315,-27.5 315,-63.5 503.25,-63.5 503.25,-27.5 315,-27.5\"/>\n",
       "<text text-anchor=\"middle\" x=\"326.38\" y=\"-40.7\" font-family=\"Times,serif\" font-size=\"14.00\">d</text>\n",
       "<polyline fill=\"none\" stroke=\"black\" points=\"337.75,-28 337.75,-63.5\"/>\n",
       "<text text-anchor=\"middle\" x=\"379.88\" y=\"-40.7\" font-family=\"Times,serif\" font-size=\"14.00\">data &#45;6.0000</text>\n",
       "<polyline fill=\"none\" stroke=\"black\" points=\"422,-28 422,-63.5\"/>\n",
       "<text text-anchor=\"middle\" x=\"462.62\" y=\"-40.7\" font-family=\"Times,serif\" font-size=\"14.00\">grad 1.0000</text>\n",
       "</g>\n",
       "<!-- 6173417136&#45;&gt;6173416560+ -->\n",
       "<g id=\"edge3\" class=\"edge\">\n",
       "<title>6173417136&#45;&gt;6173416560+</title>\n",
       "<path fill=\"none\" stroke=\"black\" d=\"M503.5,-61.67C512.45,-63.22 521.13,-64.73 529.02,-66.09\"/>\n",
       "<polygon fill=\"black\" stroke=\"black\" points=\"528.38,-69.54 538.83,-67.79 529.58,-62.64 528.38,-69.54\"/>\n",
       "</g>\n",
       "<!-- 6173417136*&#45;&gt;6173417136 -->\n",
       "<g id=\"edge2\" class=\"edge\">\n",
       "<title>6173417136*&#45;&gt;6173417136</title>\n",
       "<path fill=\"none\" stroke=\"black\" d=\"M278.69,-45.5C285.96,-45.5 294.31,-45.5 303.19,-45.5\"/>\n",
       "<polygon fill=\"black\" stroke=\"black\" points=\"303.17,-49 313.17,-45.5 303.17,-42 303.17,-49\"/>\n",
       "</g>\n",
       "<!-- 6173191984 -->\n",
       "<g id=\"node7\" class=\"node\">\n",
       "<title>6173191984</title>\n",
       "<polygon fill=\"none\" stroke=\"black\" points=\"0,-0.5 0,-36.5 188.25,-36.5 188.25,-0.5 0,-0.5\"/>\n",
       "<text text-anchor=\"middle\" x=\"11.38\" y=\"-13.7\" font-family=\"Times,serif\" font-size=\"14.00\">b</text>\n",
       "<polyline fill=\"none\" stroke=\"black\" points=\"22.75,-1 22.75,-36.5\"/>\n",
       "<text text-anchor=\"middle\" x=\"64.88\" y=\"-13.7\" font-family=\"Times,serif\" font-size=\"14.00\">data &#45;3.0000</text>\n",
       "<polyline fill=\"none\" stroke=\"black\" points=\"107,-1 107,-36.5\"/>\n",
       "<text text-anchor=\"middle\" x=\"147.62\" y=\"-13.7\" font-family=\"Times,serif\" font-size=\"14.00\">grad 2.0000</text>\n",
       "</g>\n",
       "<!-- 6173191984&#45;&gt;6173417136* -->\n",
       "<g id=\"edge4\" class=\"edge\">\n",
       "<title>6173191984&#45;&gt;6173417136*</title>\n",
       "<path fill=\"none\" stroke=\"black\" d=\"M188.49,-34.75C197.27,-36.28 205.77,-37.76 213.51,-39.1\"/>\n",
       "<polygon fill=\"black\" stroke=\"black\" points=\"212.66,-42.51 223.11,-40.78 213.86,-35.61 212.66,-42.51\"/>\n",
       "</g>\n",
       "</g>\n",
       "</svg>\n"
      ],
      "text/plain": [
       "<graphviz.graphs.Digraph at 0x16ff5c6e0>"
      ]
     },
     "execution_count": 14,
     "metadata": {},
     "output_type": "execute_result"
    }
   ],
   "source": [
    "L.backward()\n",
    "draw_dot(L)"
   ]
  },
  {
   "cell_type": "markdown",
   "metadata": {},
   "source": [
    "To see how this is done with PyTorch, the library you would use in production when building neural networks"
   ]
  },
  {
   "cell_type": "code",
   "execution_count": 15,
   "metadata": {},
   "outputs": [
    {
     "name": "stdout",
     "output_type": "stream",
     "text": [
      "L.data 4.0\n",
      "----------------\n",
      "a.grad -3.0\n",
      "b.grad 2.0\n",
      "c.grad 1.0\n"
     ]
    }
   ],
   "source": [
    "a = torch.Tensor([2.0]).double(); a.requires_grad = True\n",
    "b = torch.Tensor([-3.0]).double(); b.requires_grad = True\n",
    "c = torch.Tensor([10.0]).double(); c.requires_grad = True\n",
    "d = a*b; d.label = 'd'\n",
    "L = d + c; L.label = 'L'\n",
    "\n",
    "print('L.data', L.data.item())\n",
    "L.backward()\n",
    "print('----------------')\n",
    "print('a.grad', a.grad.item())\n",
    "print('b.grad', b.grad.item())\n",
    "print('c.grad', c.grad.item())"
   ]
  },
  {
   "cell_type": "markdown",
   "metadata": {},
   "source": [
    "## Building a Neural Network Library"
   ]
  },
  {
   "cell_type": "code",
   "execution_count": 16,
   "metadata": {},
   "outputs": [],
   "source": [
    "class Neuron:\n",
    "    def __init__(self, nin):\n",
    "        self.weight = [Value(random.uniform(-1, 1)) for _ in range(nin)]\n",
    "        # bias controls the overall trigger happiness of this neuron\n",
    "        self.bias = Value(random.uniform(-1, 1))\n",
    "    \n",
    "    def __call__(self, x):\n",
    "        # w * x + b\n",
    "        # create the activation for the nueron\n",
    "        activation = sum((wi*xi for wi, xi in zip(self.weight, x)), self.bias)\n",
    "        # pass the activation through a non-linearity\n",
    "        out = activation.tanh()\n",
    "        return out\n",
    "\n",
    "    def parameters(self):\n",
    "        return self.weight + [self.bias]"
   ]
  },
  {
   "cell_type": "code",
   "execution_count": 24,
   "metadata": {},
   "outputs": [],
   "source": [
    "class Layer:\n",
    "    def __init__(self, nin, nout):\n",
    "        self.neurons = [Neuron(nin) for _ in range(nout)]\n",
    "    \n",
    "    def __call__(self, x):\n",
    "        outs = [n(x) for n in self.neurons]\n",
    "        return outs[0] if len(outs) == 1 else outs\n",
    "\n",
    "    def parameters(self):\n",
    "        return [p for neuron in self.neurons for p in neuron.parameters()]"
   ]
  },
  {
   "cell_type": "code",
   "execution_count": 25,
   "metadata": {},
   "outputs": [],
   "source": [
    "class MLP:\n",
    "    def __init__(self, nin, nouts):\n",
    "        sz = [nin] + nouts\n",
    "        self.layers = [Layer(sz[i], sz[i+1]) for i in range(len(nouts))]\n",
    "\n",
    "    def __call__(self, x):\n",
    "        for layer in self.layers:\n",
    "            x = layer(x)\n",
    "        return x\n",
    "\n",
    "    def parameters(self):\n",
    "        return [p for layer in self.layers for p in layer.parameters()]"
   ]
  },
  {
   "cell_type": "code",
   "execution_count": 19,
   "metadata": {},
   "outputs": [
    {
     "name": "stdout",
     "output_type": "stream",
     "text": [
      "neuron:  Value(data=0.8748685274089498)\n",
      "layer:  [Value(data=0.9536554891026344), Value(data=0.7297741591652316), Value(data=0.9577675109491882)]\n",
      "mlp:  Value(data=0.5167620355483357)\n"
     ]
    }
   ],
   "source": [
    "# 2 inputs\n",
    "x = [2.0, 3.0]\n",
    "n = Neuron(2)\n",
    "print('neuron: ', n(x))\n",
    "# 2 inputs, 1 layer of 3 neurons\n",
    "x = [2.0, 3.0]\n",
    "l = Layer(2, 3)\n",
    "print('layer: ', l(x))\n",
    "# 3 inputs, 2 layers of 4 neurons, 1 output neuron\n",
    "x = [2.0, 3.0, -1.0]\n",
    "mlp = MLP(3, [4, 4, 1])\n",
    "print('mlp: ', mlp(x))\n",
    "# draw_dot(mlp(x))"
   ]
  },
  {
   "cell_type": "code",
   "execution_count": 193,
   "metadata": {},
   "outputs": [],
   "source": [
    "# Binary Classifier Neural Net\n",
    "model = MLP(3, [4, 4, 1])\n",
    "\n",
    "# example dataset, 4 possible inputs\n",
    "xs = [\n",
    "    [2.0, 3.0, -1.0],\n",
    "    [3.0, -1.0, 0.5],\n",
    "    [0.5, 1.0, 1.0],\n",
    "    [1.0, 1.0, -1.0],\n",
    "]\n",
    "\n",
    "# desired targets\n",
    "ys = [\n",
    "    1.0,\n",
    "    -1.0,\n",
    "    -1.0,\n",
    "    1.0\n",
    "] "
   ]
  },
  {
   "cell_type": "code",
   "execution_count": 216,
   "metadata": {},
   "outputs": [
    {
     "name": "stdout",
     "output_type": "stream",
     "text": [
      "0 0.001987635074888484\n",
      "1 0.0019776783662457816\n",
      "2 0.001967818025825764\n",
      "3 0.001958052679492402\n",
      "4 0.0019483809789104284\n",
      "5 0.0019388016009457723\n",
      "6 0.0019293132470826265\n",
      "7 0.0019199146428563701\n",
      "8 0.0019106045373023222\n",
      "9 0.0019013817024192549\n",
      "10 0.001892244932647716\n",
      "11 0.0018831930443622305\n",
      "12 0.0018742248753773735\n",
      "13 0.001865339284466939\n",
      "14 0.0018565351508960481\n",
      "15 0.0018478113739655898\n",
      "16 0.0018391668725688183\n",
      "17 0.0018306005847595265\n",
      "18 0.001822111467331635\n",
      "19 0.0018136984954097326\n"
     ]
    }
   ],
   "source": [
    "for k in range(20):\n",
    "    # Gradient Descent\n",
    "\n",
    "    # Forward Pass\n",
    "    ypred = [model(x) for x in xs]\n",
    "    # mean-squared error loss\n",
    "    # The more \"off\" the prediction is, the higher the number\n",
    "    # This loss function will be tuned by the neural network until the loss is minimized towards 0\n",
    "    loss = sum([(yout - ygt)**2 for ygt, yout in zip(ys, ypred)])\n",
    "    \n",
    "    # Zero out the gradients\n",
    "    for p in model.parameters():\n",
    "        p.grad = 0.0\n",
    "\n",
    "    # Backward pass\n",
    "    loss.backward()\n",
    "\n",
    "    # Update: step size\n",
    "    for p in model.parameters():\n",
    "        p.data += -0.05 * p.grad\n",
    "\n",
    "    print(k, loss.data)"
   ]
  },
  {
   "cell_type": "code",
   "execution_count": 217,
   "metadata": {},
   "outputs": [
    {
     "data": {
      "text/plain": [
       "[Value(data=0.9891521708571458),\n",
       " Value(data=-0.9838849634890018),\n",
       " Value(data=-0.9737471169562462),\n",
       " Value(data=0.972666598666881)]"
      ]
     },
     "execution_count": 217,
     "metadata": {},
     "output_type": "execute_result"
    }
   ],
   "source": [
    "ypred"
   ]
  },
  {
   "cell_type": "markdown",
   "metadata": {},
   "source": [
    "For more mature and larger scale neural networks such as the GPT models the basic structure is the same but \n",
    "with different compoents.\n",
    "\n",
    "The above gradient descent technique is a very simple and basic way of training a neural network. The \n",
    "`Update` portion uses a simple stochastic update technique therefore we call this whole process stochastic \n",
    "gradient descent. The above `Forward Pass` uses the mean-squared loss function but there are many other \n",
    "loss functions, in the case of GPT models they use the cross-entropy loss function which has proven well for next token prediction."
   ]
  }
 ],
 "metadata": {
  "kernelspec": {
   "display_name": "kai",
   "language": "python",
   "name": "python3"
  },
  "language_info": {
   "codemirror_mode": {
    "name": "ipython",
    "version": 3
   },
   "file_extension": ".py",
   "mimetype": "text/x-python",
   "name": "python",
   "nbconvert_exporter": "python",
   "pygments_lexer": "ipython3",
   "version": "3.12.2"
  }
 },
 "nbformat": 4,
 "nbformat_minor": 2
}
